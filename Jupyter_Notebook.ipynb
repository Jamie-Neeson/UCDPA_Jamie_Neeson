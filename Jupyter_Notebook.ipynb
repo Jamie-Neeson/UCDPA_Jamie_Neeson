{
 "cells": [
  {
   "cell_type": "code",
   "execution_count": null,
   "id": "8949eb96",
   "metadata": {},
   "outputs": [],
   "source": [
    "!pip install pandas\n",
    "!pip install numpy\n",
    "!pip install plotly\n",
    "!pip install matplotlib"
   ]
  },
  {
   "cell_type": "code",
   "execution_count": null,
   "id": "2cddee64",
   "metadata": {},
   "outputs": [],
   "source": [
    "#importing packages\n",
    "import pandas as pd\n",
    "import numpy as np\n",
    "import plotly.express as px\n",
    "import plotly.graph_objects as go \n",
    "import matplotlib.pyplot as plt"
   ]
  },
  {
   "cell_type": "code",
   "execution_count": null,
   "id": "73c2670d",
   "metadata": {},
   "outputs": [],
   "source": [
    "#importing dataframes as csv\n",
    "confirmed_cases_df = pd.read_csv('covid_confirmed_cases.csv')\n",
    "confirmed_deaths_df = pd.read_csv('confirmed_deaths.csv')"
   ]
  },
  {
   "cell_type": "markdown",
   "id": "1f7bb4fc",
   "metadata": {},
   "source": [
    "# Data Manipulation and Cleaning"
   ]
  },
  {
   "cell_type": "code",
   "execution_count": null,
   "id": "83df9881",
   "metadata": {},
   "outputs": [],
   "source": [
    "#dropping columns that I don't need\n",
    "confirmed_cases_df = confirmed_cases_df.drop(columns=['Lat', 'Long', 'Province/State'])\n",
    "confirmed_deaths_df = confirmed_deaths_df.drop(columns=['Lat', 'Long', 'Province/State'])\n",
    "confirmed_cases_df.head(10)"
   ]
  },
  {
   "cell_type": "code",
   "execution_count": null,
   "id": "55741a4f",
   "metadata": {
    "scrolled": true
   },
   "outputs": [],
   "source": [
    "#group data by Country\n",
    "confirmed_cases_df = confirmed_cases_df.groupby(by='Country/Region').aggregate(np.sum).T\n",
    "confirmed_cases_df.index.name = 'Date'\n",
    "confirmed_cases_df = confirmed_cases_df.reset_index()\n",
    "confirmed_deaths_df = confirmed_deaths_df.groupby(by='Country/Region').aggregate(np.sum).T\n",
    "confirmed_deaths_df.index.name = 'Date'\n",
    "confirmed_deaths_df = confirmed_deaths_df.reset_index()\n",
    "confirmed_cases_df.head()"
   ]
  },
  {
   "cell_type": "code",
   "execution_count": null,
   "id": "91060d98",
   "metadata": {
    "scrolled": true
   },
   "outputs": [],
   "source": [
    "confirmed_cases_melt_df = confirmed_cases_df.melt(id_vars='Date').copy()\n",
    "confirmed_cases_melt_df.rename(columns={'value':'Confirmed'}, inplace=True)\n",
    "confirmed_deaths_melt_df = confirmed_deaths_df.melt(id_vars='Date').copy()\n",
    "confirmed_deaths_melt_df.rename(columns={'value':'Confirmed'}, inplace=True)\n",
    "confirmed_cases_melt_df.head(10)"
   ]
  },
  {
   "cell_type": "code",
   "execution_count": null,
   "id": "9153f7c9",
   "metadata": {},
   "outputs": [],
   "source": [
    "#formatting the date \n",
    "confirmed_cases_melt_df['Date'] = pd.to_datetime(confirmed_cases_melt_df['Date'])\n",
    "confirmed_cases_melt_df['Date'] = confirmed_cases_melt_df['Date'].dt.strftime('%d/%m/%Y')\n",
    "confirmed_deaths_melt_df['Date'] = pd.to_datetime(confirmed_deaths_melt_df['Date'])\n",
    "confirmed_deaths_melt_df['Date'] = confirmed_deaths_melt_df['Date'].dt.strftime('%d/%m/%Y')\n",
    "confirmed_deaths_melt_df.head(10)"
   ]
  },
  {
   "cell_type": "code",
   "execution_count": null,
   "id": "65c4f45c",
   "metadata": {},
   "outputs": [],
   "source": [
    "max_date = confirmed_deaths_melt_df['Date'].max()\n",
    "max_date"
   ]
  },
  {
   "cell_type": "code",
   "execution_count": null,
   "id": "f4a1aa43",
   "metadata": {},
   "outputs": [],
   "source": [
    "total_confirmed_df = confirmed_cases_melt_df[confirmed_cases_melt_df['Date'] == max_date]\n",
    "total_confirmed = total_confirmed_df['Confirmed'].sum()\n",
    "total_confirmed"
   ]
  },
  {
   "cell_type": "code",
   "execution_count": null,
   "id": "7a7d1231",
   "metadata": {},
   "outputs": [],
   "source": [
    "total_death_df = confirmed_deaths_melt_df[confirmed_deaths_melt_df['Date'] == max_date]\n",
    "total_death = total_death_df['Confirmed'].sum()\n",
    "total_death"
   ]
  },
  {
   "cell_type": "markdown",
   "id": "6b021ec5",
   "metadata": {},
   "source": [
    "# Data Visualization"
   ]
  },
  {
   "cell_type": "code",
   "execution_count": null,
   "id": "e058c00a",
   "metadata": {},
   "outputs": [],
   "source": [
    "#create a new df\n",
    "total_confirmed_df = confirmed_cases_melt_df[confirmed_cases_melt_df['Date'] == max_date]\n",
    "total_confirmed_df"
   ]
  },
  {
   "cell_type": "code",
   "execution_count": null,
   "id": "66b5f6b4",
   "metadata": {},
   "outputs": [],
   "source": [
    "total_confirmed = total_confirmed_df['Confirmed'].sum()\n",
    "total_confirmed"
   ]
  },
  {
   "cell_type": "markdown",
   "id": "d06bc520",
   "metadata": {},
   "source": [
    "# 5 Visualizations\n"
   ]
  },
  {
   "cell_type": "code",
   "execution_count": null,
   "id": "feacf729",
   "metadata": {
    "scrolled": true
   },
   "outputs": [],
   "source": [
    "fig = px.bar(total_confirmed_df.sort_values('Confirmed', ascending=False).head(10)\n",
    "             , x='Country/Region', y='Confirmed', text='Confirmed', title='Total COVID 19 cases, Top 10')\n",
    "fig.show()"
   ]
  },
  {
   "cell_type": "code",
   "execution_count": null,
   "id": "a7f107e7",
   "metadata": {},
   "outputs": [],
   "source": [
    "plt.scatter(x='Country/Region', y='Confirmed', data=confirmed_cases_melt_df, s=10)\n",
    "plt.show(10)"
   ]
  },
  {
   "cell_type": "code",
   "execution_count": null,
   "id": "27879810",
   "metadata": {
    "scrolled": true
   },
   "outputs": [],
   "source": [
    "fig2 = px.scatter(confirmed_deaths_melt_df, x='Date', y='Confirmed', color='Country/Region', \n",
    "                  title='Increase in COVID 19 deaths by date, all countries')\n",
    "fig2.show()"
   ]
  },
  {
   "cell_type": "code",
   "execution_count": null,
   "id": "aec9ecf6",
   "metadata": {
    "scrolled": false
   },
   "outputs": [],
   "source": [
    "fig3 = px.line(confirmed_deaths_melt_df[confirmed_deaths_melt_df['Country/Region'] == 'Ireland'], \n",
    "               x='Date', y='Confirmed', title='Increase in COVID 19 deaths by date, Ireland')\n",
    "fig3.show()"
   ]
  },
  {
   "cell_type": "code",
   "execution_count": null,
   "id": "ac4d75cb",
   "metadata": {},
   "outputs": [],
   "source": []
  },
  {
   "cell_type": "code",
   "execution_count": null,
   "id": "10d5e7ee",
   "metadata": {},
   "outputs": [],
   "source": [
    "fig4 = px.choropleth(total_confirmed_df, \n",
    "                     locations='Country/Region', locationmode='country names',\n",
    "                     color_continuous_scale='Rainbow',\n",
    "                     color=total_confirmed_df['Confirmed'], height=500, title='World map of all COVID 19 cases')                                                                     \n",
    "fig4.show()"
   ]
  },
  {
   "cell_type": "code",
   "execution_count": null,
   "id": "73c37d22",
   "metadata": {
    "scrolled": true
   },
   "outputs": [],
   "source": [
    "fig5 = px.scatter(total_death_df, x='Confirmed', y='Confirmed', color=total_death_df['Country/Region'],\n",
    "                  size='Confirmed', log_x=True, height=500, title='Total COVID 19 Deaths, all countries')\n",
    "fig5.show()"
   ]
  },
  {
   "cell_type": "code",
   "execution_count": null,
   "id": "f6f845fb",
   "metadata": {},
   "outputs": [],
   "source": []
  }
 ],
 "metadata": {
  "kernelspec": {
   "display_name": "Python 3 (ipykernel)",
   "language": "python",
   "name": "python3"
  },
  "language_info": {
   "codemirror_mode": {
    "name": "ipython",
    "version": 3
   },
   "file_extension": ".py",
   "mimetype": "text/x-python",
   "name": "python",
   "nbconvert_exporter": "python",
   "pygments_lexer": "ipython3",
   "version": "3.9.7"
  }
 },
 "nbformat": 4,
 "nbformat_minor": 5
}
